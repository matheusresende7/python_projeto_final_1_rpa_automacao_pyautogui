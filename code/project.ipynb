{
 "cells": [
  {
   "cell_type": "markdown",
   "metadata": {},
   "source": [
    "##### Importando as bibliotecas"
   ]
  },
  {
   "cell_type": "code",
   "execution_count": 49,
   "metadata": {},
   "outputs": [],
   "source": [
    "import pandas as pd\n",
    "import pyautogui as pag\n",
    "import win32com.client as win32\n",
    "import os\n",
    "import pathlib\n",
    "import time\n",
    "import pyperclip\n",
    "import functions as fn"
   ]
  },
  {
   "cell_type": "markdown",
   "metadata": {},
   "source": [
    "##### Lendo a base de dados"
   ]
  },
  {
   "cell_type": "code",
   "execution_count": 50,
   "metadata": {},
   "outputs": [
    {
     "data": {
      "text/html": [
       "<div>\n",
       "<style scoped>\n",
       "    .dataframe tbody tr th:only-of-type {\n",
       "        vertical-align: middle;\n",
       "    }\n",
       "\n",
       "    .dataframe tbody tr th {\n",
       "        vertical-align: top;\n",
       "    }\n",
       "\n",
       "    .dataframe thead th {\n",
       "        text-align: right;\n",
       "    }\n",
       "</style>\n",
       "<table border=\"1\" class=\"dataframe\">\n",
       "  <thead>\n",
       "    <tr style=\"text-align: right;\">\n",
       "      <th></th>\n",
       "      <th>Código Venda</th>\n",
       "      <th>Data</th>\n",
       "      <th>ID Loja</th>\n",
       "      <th>Produto</th>\n",
       "      <th>Quantidade</th>\n",
       "      <th>Valor Unitário</th>\n",
       "      <th>Valor Final</th>\n",
       "    </tr>\n",
       "  </thead>\n",
       "  <tbody>\n",
       "    <tr>\n",
       "      <th>0</th>\n",
       "      <td>1</td>\n",
       "      <td>2019-01-01</td>\n",
       "      <td>1</td>\n",
       "      <td>Sapato Estampa</td>\n",
       "      <td>1</td>\n",
       "      <td>358</td>\n",
       "      <td>358</td>\n",
       "    </tr>\n",
       "    <tr>\n",
       "      <th>1</th>\n",
       "      <td>1</td>\n",
       "      <td>2019-01-01</td>\n",
       "      <td>1</td>\n",
       "      <td>Camiseta</td>\n",
       "      <td>2</td>\n",
       "      <td>180</td>\n",
       "      <td>360</td>\n",
       "    </tr>\n",
       "    <tr>\n",
       "      <th>2</th>\n",
       "      <td>1</td>\n",
       "      <td>2019-01-01</td>\n",
       "      <td>1</td>\n",
       "      <td>Sapato Xadrez</td>\n",
       "      <td>1</td>\n",
       "      <td>368</td>\n",
       "      <td>368</td>\n",
       "    </tr>\n",
       "    <tr>\n",
       "      <th>3</th>\n",
       "      <td>2</td>\n",
       "      <td>2019-01-02</td>\n",
       "      <td>3</td>\n",
       "      <td>Relógio</td>\n",
       "      <td>3</td>\n",
       "      <td>200</td>\n",
       "      <td>600</td>\n",
       "    </tr>\n",
       "    <tr>\n",
       "      <th>4</th>\n",
       "      <td>2</td>\n",
       "      <td>2019-01-02</td>\n",
       "      <td>3</td>\n",
       "      <td>Chinelo Liso</td>\n",
       "      <td>1</td>\n",
       "      <td>71</td>\n",
       "      <td>71</td>\n",
       "    </tr>\n",
       "    <tr>\n",
       "      <th>...</th>\n",
       "      <td>...</td>\n",
       "      <td>...</td>\n",
       "      <td>...</td>\n",
       "      <td>...</td>\n",
       "      <td>...</td>\n",
       "      <td>...</td>\n",
       "      <td>...</td>\n",
       "    </tr>\n",
       "    <tr>\n",
       "      <th>100994</th>\n",
       "      <td>69996</td>\n",
       "      <td>2019-12-26</td>\n",
       "      <td>17</td>\n",
       "      <td>Short Listrado</td>\n",
       "      <td>2</td>\n",
       "      <td>102</td>\n",
       "      <td>204</td>\n",
       "    </tr>\n",
       "    <tr>\n",
       "      <th>100995</th>\n",
       "      <td>69996</td>\n",
       "      <td>2019-12-26</td>\n",
       "      <td>17</td>\n",
       "      <td>Mochila</td>\n",
       "      <td>4</td>\n",
       "      <td>270</td>\n",
       "      <td>1080</td>\n",
       "    </tr>\n",
       "    <tr>\n",
       "      <th>100996</th>\n",
       "      <td>69996</td>\n",
       "      <td>2019-12-26</td>\n",
       "      <td>17</td>\n",
       "      <td>Pulseira Estampa</td>\n",
       "      <td>1</td>\n",
       "      <td>87</td>\n",
       "      <td>87</td>\n",
       "    </tr>\n",
       "    <tr>\n",
       "      <th>100997</th>\n",
       "      <td>69997</td>\n",
       "      <td>2019-12-26</td>\n",
       "      <td>11</td>\n",
       "      <td>Camisa Listrado</td>\n",
       "      <td>1</td>\n",
       "      <td>108</td>\n",
       "      <td>108</td>\n",
       "    </tr>\n",
       "    <tr>\n",
       "      <th>100998</th>\n",
       "      <td>69997</td>\n",
       "      <td>2019-12-26</td>\n",
       "      <td>11</td>\n",
       "      <td>Short Linho</td>\n",
       "      <td>2</td>\n",
       "      <td>133</td>\n",
       "      <td>266</td>\n",
       "    </tr>\n",
       "  </tbody>\n",
       "</table>\n",
       "<p>100999 rows × 7 columns</p>\n",
       "</div>"
      ],
      "text/plain": [
       "        Código Venda       Data  ID Loja           Produto  Quantidade  \\\n",
       "0                  1 2019-01-01        1    Sapato Estampa           1   \n",
       "1                  1 2019-01-01        1          Camiseta           2   \n",
       "2                  1 2019-01-01        1     Sapato Xadrez           1   \n",
       "3                  2 2019-01-02        3           Relógio           3   \n",
       "4                  2 2019-01-02        3      Chinelo Liso           1   \n",
       "...              ...        ...      ...               ...         ...   \n",
       "100994         69996 2019-12-26       17    Short Listrado           2   \n",
       "100995         69996 2019-12-26       17           Mochila           4   \n",
       "100996         69996 2019-12-26       17  Pulseira Estampa           1   \n",
       "100997         69997 2019-12-26       11   Camisa Listrado           1   \n",
       "100998         69997 2019-12-26       11       Short Linho           2   \n",
       "\n",
       "        Valor Unitário  Valor Final  \n",
       "0                  358          358  \n",
       "1                  180          360  \n",
       "2                  368          368  \n",
       "3                  200          600  \n",
       "4                   71           71  \n",
       "...                ...          ...  \n",
       "100994             102          204  \n",
       "100995             270         1080  \n",
       "100996              87           87  \n",
       "100997             108          108  \n",
       "100998             133          266  \n",
       "\n",
       "[100999 rows x 7 columns]"
      ]
     },
     "metadata": {},
     "output_type": "display_data"
    }
   ],
   "source": [
    "pag.PAUSE = 0.7 # Adicionando uma pausa padrão a cada comando do PyAutoGui para que possa dar tempo de executar cada um dos comandos adequadamente\n",
    "caminho_base_vendas = r'C:\\000 - Arquivos\\Educação\\Habilidades e Treinamentos\\Hashtag Treinamentos\\Python\\Projetos Finais\\python_projeto_final_1_rpa_automacao_pyautogui\\data\\sales.xlsx'\n",
    "base_vendas = pd.read_excel(caminho_base_vendas) # Lendo a base de dados\n",
    "display (base_vendas) # Exibindo a base de dados\n",
    "\n",
    "# Apenas exibindo visualmente as ações, pois tudo foi feito sem abrir os programas\n",
    "os.startfile(caminho_base_vendas) # Abrindo a base de dados\n",
    "time.sleep (10) # Aguardando o Excel abrir completamente\n",
    "pag.hotkey('alt', 'f4') # Fechando o Excel"
   ]
  },
  {
   "cell_type": "markdown",
   "metadata": {},
   "source": [
    "##### Extraindo o valor atual do Dólar"
   ]
  },
  {
   "cell_type": "code",
   "execution_count": 51,
   "metadata": {},
   "outputs": [
    {
     "name": "stdout",
     "output_type": "stream",
     "text": [
      "O valor do Dólar hoje é R$ 5.73\n"
     ]
    }
   ],
   "source": [
    "fn.abrir_programa ('Chrome') # Abrindo o Chrome\n",
    "time.sleep (3) # Aguardando o Chrome abrir completamente\n",
    "fn.escrever_texto ('Dólar') # Escrevendo a busca no Google\n",
    "pag.press ('Enter') # Apertando enter para buscar a cotação do Dólar\n",
    "pag.moveTo (247,489) # Posicionando o mouse no início do valor do Dólar\n",
    "pag.mouseDown () # Iniciando a seleção do mouse\n",
    "pag.moveTo (323,491) # Posicionando o mouse no final do valor do Dólar\n",
    "pag.mouseUp () # Finalizando a seleção do mouse\n",
    "pag.hotkey ('ctrl', 'c') # Copiando o valor do Dólar\n",
    "dolar = float(pyperclip.paste().replace(',', '.').strip()) # Armazenando o valor do Dólar em uma variável, colando o valor copiado, substituindo , por . e removendo possíveis espaços vazios\n",
    "pag.hotkey ('alt', 'f4') # Fechando o Chrome\n",
    "print ('O valor do Dólar hoje é R$ ' + str(dolar))"
   ]
  },
  {
   "cell_type": "markdown",
   "metadata": {},
   "source": [
    "##### Criando os indicadores"
   ]
  },
  {
   "cell_type": "code",
   "execution_count": 52,
   "metadata": {},
   "outputs": [
    {
     "name": "stdout",
     "output_type": "stream",
     "text": [
      "O faturamento total do ano de 2019 foi de $ 7.308.387,96.\n",
      "O faturamento médio do ano de 2019 foi de $ 106.288,36.\n",
      "O total de vendas do ano de 2019 foi de 218.688 vendas.\n"
     ]
    }
   ],
   "source": [
    "faturamento_2019 = (base_vendas['Valor Final'].sum())/dolar # Calculando a faturamento total\n",
    "faturamento_2019_medio = (faturamento_2019 / 12)/dolar # Calculando a média de faturamento\n",
    "vendas_total = base_vendas['Quantidade'].sum() # Calculando o total de vendas\n",
    "\n",
    "faturamento_2019 = fn.conversao_moeda(faturamento_2019) # Trantando o valor de faturamento total\n",
    "faturamento_2019_medio = fn.conversao_moeda(faturamento_2019_medio) # Trantando o valor de média de faturamento\n",
    "vendas_total = fn.conversao_numero(vendas_total) # Trantando o valor de total de vendas\n",
    "\n",
    "print(f'O faturamento total do ano de 2019 foi de $ {faturamento_2019}.') # Exibindo o total de faturamento\n",
    "print(f'O faturamento médio do ano de 2019 foi de $ {faturamento_2019_medio}.') # Exibindo a média de faturamento\n",
    "print(f'O total de vendas do ano de 2019 foi de {vendas_total} vendas.') # Exibindo o total de vendas"
   ]
  },
  {
   "cell_type": "markdown",
   "metadata": {},
   "source": [
    "##### Enviando os e-mails"
   ]
  },
  {
   "cell_type": "code",
   "execution_count": 53,
   "metadata": {},
   "outputs": [
    {
     "data": {
      "text/plain": [
       "'OK'"
      ]
     },
     "execution_count": 53,
     "metadata": {},
     "output_type": "execute_result"
    }
   ],
   "source": [
    "outlook = win32.Dispatch('outlook.application') # Iniciando a instância do Outlook \n",
    "gestores = {'Luiz': 'matheusresende1995@hotmail.com', 'Marcos': 'matheusresende1995@hotmail.com'} # Criando a lista de nomes e e-mails para receber o relatório\n",
    "anexo = r'C:\\000 - Arquivos\\Educação\\Habilidades e Treinamentos\\Hashtag Treinamentos\\Python\\Projetos Finais\\python_projeto_final_1_rpa_automacao_pyautogui\\data\\sales.xlsx' # Local do anexo do e-mail\n",
    "\n",
    "for nome, email in gestores.items(): # Criando a estrutura de repetição para enviar os e-mails\n",
    "    novo_email = outlook.CreateItem(0) # Criando um novo e-mail\n",
    "    novo_email.To = email # Definindo o destinatário do e-mail\n",
    "    novo_email.Subject = f'Indicadores 2019 - {nome}' # Definindo o assunto do e-mail\n",
    "    # novo_email.Attachments.Add(str(anexo)) # Definindo o anexo do e-mail (Deixando esse comando comentado pois o anexo estava muito grande e fazendo com que demorasse muito para que os e-mails fossem enviados)\n",
    "    novo_email.HTMLBody = f''' \n",
    "        <p>Bom dia, {nome}!</p>\n",
    "        <p>Segue o resumo dos principais indicadores do ano de 2019:</p> \n",
    "        <ul>\n",
    "            <li><strong>Faturamento total:</strong> $ {faturamento_2019}</li>\n",
    "            <li><strong>Faturamento médio:</strong> $ {faturamento_2019_medio}</li>\n",
    "            <li><strong>Total de vendas:</strong> {vendas_total}</li>\n",
    "        </ul>\n",
    "        <p>Qualquer dúvida, estou à disposição.</p> \n",
    "        <p>Obrigado!</p> \n",
    "        <p>Atenciosamente,</p> \n",
    "        <p><strong>Matheus Resende</strong><br>Engenharia - Projetos - Dados - Automações</p> \n",
    "        <p>Horizon Motors<br>Rua João Carlos Magalhães, 172 CPI: 1234<br>Volta Redonda - RJ - Brasil <br>CEP: 27540-001</p> \n",
    "        <p>Fone +55 (24) 3381-3244<br>www.horizonmotors.com.br</p> 'Definindo o conteúdo do e-mail em HTML\n",
    "    ''' # Definindo o texto do e-mail em HTML para mais personalização\n",
    "    novo_email.Send() # Enviando o e-mail\n",
    "\n",
    "# Apenas exibindo visualmente as ações, pois tudo foi feito sem abrir os programas\n",
    "caminho_outlook = r'C:\\Program Files\\Microsoft Office\\root\\Office16\\OUTLOOK.EXE'\n",
    "os.startfile(caminho_outlook) # Abrindo o Outlook\n",
    "time.sleep (20) # Aguardando o Outlook abrir completamente\n",
    "pag.moveTo (568,348) # Posicionando o mouse onde está o e-mail\n",
    "pag.click() # Clicando para abrir o e-mail\n",
    "time.sleep (10) # Aguardando para ler o e-mail\n",
    "pag.hotkey('alt', 'f4') # Fechando o Outlook\n",
    "\n",
    "pag.alert( # Exibindo uma Msgbox informando que o script foi concluído com sucesso\n",
    "    text='Relatórios enviados com sucesso!', \n",
    "    title='Automação executada com sucesso', \n",
    "    button='OK'\n",
    ")"
   ]
  }
 ],
 "metadata": {
  "kernelspec": {
   "display_name": "Python 3",
   "language": "python",
   "name": "python3"
  },
  "language_info": {
   "codemirror_mode": {
    "name": "ipython",
    "version": 3
   },
   "file_extension": ".py",
   "mimetype": "text/x-python",
   "name": "python",
   "nbconvert_exporter": "python",
   "pygments_lexer": "ipython3",
   "version": "3.12.4"
  }
 },
 "nbformat": 4,
 "nbformat_minor": 2
}
